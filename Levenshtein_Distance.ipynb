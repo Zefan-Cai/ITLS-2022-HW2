{
 "cells": [
  {
   "cell_type": "code",
   "execution_count": 1,
   "metadata": {},
   "outputs": [],
   "source": [
    "def normal_leven(str1, str2):\n",
    "  len_str1 = len(str1) + 1\n",
    "  len_str2 = len(str2) + 1\n",
    "\n",
    "  matrix = [0 for n in range(len_str1 * len_str2)]\n",
    "\n",
    "  for i in range(len_str1):\n",
    "    matrix[i] = i\n",
    "\n",
    "  for j in range(0, len(matrix), len_str1):\n",
    "    if j % len_str1 == 0:\n",
    "      matrix[j] = j // len_str1\n",
    "\n",
    "  for i in range(1, len_str1):\n",
    "    for j in range(1, len_str2):\n",
    "      if str1[i-1] == str2[j-1]:\n",
    "        cost = 0\n",
    "      else:\n",
    "        cost = 1\n",
    "      matrix[j*len_str1+i] = min(matrix[(j-1)*len_str1+i]+1,\n",
    "                    matrix[j*len_str1+(i-1)]+1,\n",
    "                    matrix[(j-1)*len_str1+(i-1)] + cost)\n",
    " \n",
    "  return matrix[-1]"
   ]
  },
  {
   "cell_type": "code",
   "execution_count": 2,
   "metadata": {},
   "outputs": [
    {
     "data": {
      "text/plain": [
       "4"
      ]
     },
     "execution_count": 2,
     "metadata": {},
     "output_type": "execute_result"
    }
   ],
   "source": [
    "normal_leven('apple', 'pineapple')"
   ]
  }
 ],
 "metadata": {
  "kernelspec": {
   "display_name": "Python 3.8.13 ('Jupyter')",
   "language": "python",
   "name": "python3"
  },
  "language_info": {
   "codemirror_mode": {
    "name": "ipython",
    "version": 3
   },
   "file_extension": ".py",
   "mimetype": "text/x-python",
   "name": "python",
   "nbconvert_exporter": "python",
   "pygments_lexer": "ipython3",
   "version": "3.8.13"
  },
  "orig_nbformat": 4,
  "vscode": {
   "interpreter": {
    "hash": "b366e21eab00c5ca3adb081c1545166c9c3747637fb78b2cecc124ba36ac1384"
   }
  }
 },
 "nbformat": 4,
 "nbformat_minor": 2
}
